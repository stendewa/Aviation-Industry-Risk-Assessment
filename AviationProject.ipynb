{
 "cells": [
  {
   "cell_type": "markdown",
   "id": "170c5650-86d1-47a7-a4e6-ddf02abde4ad",
   "metadata": {},
   "source": [
    "# Loading Libraries needed For Data Cleaning"
   ]
  },
  {
   "cell_type": "code",
   "execution_count": 454,
   "id": "95717998-2a38-495c-89d5-97b69d05ac6e",
   "metadata": {
    "tags": []
   },
   "outputs": [],
   "source": [
    "import pandas as pd\n",
    "import matplotlib.pyplot as plt"
   ]
  },
  {
   "cell_type": "markdown",
   "id": "b32c8b21-88ac-44f2-893d-ec5c8684de77",
   "metadata": {
    "tags": []
   },
   "source": [
    "# Loading Dataset"
   ]
  },
  {
   "cell_type": "code",
   "execution_count": 456,
   "id": "d189a634-89a4-4e01-9b81-2e63a61763be",
   "metadata": {
    "tags": []
   },
   "outputs": [
    {
     "name": "stderr",
     "output_type": "stream",
     "text": [
      "C:\\Users\\ADMIN\\AppData\\Local\\Temp\\ipykernel_10724\\762392559.py:1: DtypeWarning: Columns (6,7,28) have mixed types. Specify dtype option on import or set low_memory=False.\n",
      "  aviation_df = pd.read_csv('AviationData.csv', encoding = 'ISO-8859-1')\n"
     ]
    }
   ],
   "source": [
    "aviation_df = pd.read_csv('AviationData.csv', encoding = 'ISO-8859-1') \n",
    "#The pandas required an encoding parameter to read the data"
   ]
  },
  {
   "cell_type": "markdown",
   "id": "76378a30-b84d-4cdb-85b8-f17989487e32",
   "metadata": {
    "tags": []
   },
   "source": [
    "# Checking the values per Column"
   ]
  },
  {
   "cell_type": "code",
   "execution_count": 458,
   "id": "82dea441-fe06-4474-bebd-278acbf05dfd",
   "metadata": {
    "tags": []
   },
   "outputs": [
    {
     "name": "stdout",
     "output_type": "stream",
     "text": [
      "<class 'pandas.core.frame.DataFrame'>\n",
      "RangeIndex: 88889 entries, 0 to 88888\n",
      "Data columns (total 31 columns):\n",
      " #   Column                  Non-Null Count  Dtype  \n",
      "---  ------                  --------------  -----  \n",
      " 0   Event.Id                88889 non-null  object \n",
      " 1   Investigation.Type      88889 non-null  object \n",
      " 2   Accident.Number         88889 non-null  object \n",
      " 3   Event.Date              88889 non-null  object \n",
      " 4   Location                88837 non-null  object \n",
      " 5   Country                 88663 non-null  object \n",
      " 6   Latitude                34382 non-null  object \n",
      " 7   Longitude               34373 non-null  object \n",
      " 8   Airport.Code            50132 non-null  object \n",
      " 9   Airport.Name            52704 non-null  object \n",
      " 10  Injury.Severity         87889 non-null  object \n",
      " 11  Aircraft.damage         85695 non-null  object \n",
      " 12  Aircraft.Category       32287 non-null  object \n",
      " 13  Registration.Number     87507 non-null  object \n",
      " 14  Make                    88826 non-null  object \n",
      " 15  Model                   88797 non-null  object \n",
      " 16  Amateur.Built           88787 non-null  object \n",
      " 17  Number.of.Engines       82805 non-null  float64\n",
      " 18  Engine.Type             81793 non-null  object \n",
      " 19  FAR.Description         32023 non-null  object \n",
      " 20  Schedule                12582 non-null  object \n",
      " 21  Purpose.of.flight       82697 non-null  object \n",
      " 22  Air.carrier             16648 non-null  object \n",
      " 23  Total.Fatal.Injuries    77488 non-null  float64\n",
      " 24  Total.Serious.Injuries  76379 non-null  float64\n",
      " 25  Total.Minor.Injuries    76956 non-null  float64\n",
      " 26  Total.Uninjured         82977 non-null  float64\n",
      " 27  Weather.Condition       84397 non-null  object \n",
      " 28  Broad.phase.of.flight   61724 non-null  object \n",
      " 29  Report.Status           82505 non-null  object \n",
      " 30  Publication.Date        75118 non-null  object \n",
      "dtypes: float64(5), object(26)\n",
      "memory usage: 21.0+ MB\n"
     ]
    }
   ],
   "source": [
    "aviation_df.info()"
   ]
  },
  {
   "cell_type": "markdown",
   "id": "077a5b87-8429-4474-b625-fa2403c48fb1",
   "metadata": {
    "tags": []
   },
   "source": [
    "# DATA CLEANING\n",
    "In regards to the error message recieved when loading the data its seems the columns;\n",
    "*Latitude*, *Longitude* and *Broad.phase.of.flight* have mixed types of values. \n",
    "This will be the the first step in cleaning the data.\n",
    "## Drop Irrelevant Columns\n",
    "I'll drop several columns that would be irrellevant to our analysis i.e 'Airport.Code','Airport.Name','Registration.Number','Model','Amateur.Built','FAR.Description','Schedule','Air.carrier' \n",
    "'Latitude' and 'Longitude' as they do not help with our risk assessment.\n"
   ]
  },
  {
   "cell_type": "code",
   "execution_count": 460,
   "id": "496307c2-11f6-4d32-aa71-1531e5d506b4",
   "metadata": {
    "tags": []
   },
   "outputs": [],
   "source": [
    "\n",
    "aviation_df=aviation_df.drop(columns=['Latitude','Longitude','Airport.Code','Airport.Name','Registration.Number','Amateur.Built','FAR.Description','Schedule','Air.carrier'],axis=1 )"
   ]
  },
  {
   "cell_type": "code",
   "execution_count": 461,
   "id": "ea02347d-08c5-4f36-818d-fc3edc4eaa08",
   "metadata": {
    "tags": []
   },
   "outputs": [
    {
     "name": "stdout",
     "output_type": "stream",
     "text": [
      "<class 'pandas.core.frame.DataFrame'>\n",
      "RangeIndex: 88889 entries, 0 to 88888\n",
      "Data columns (total 22 columns):\n",
      " #   Column                  Non-Null Count  Dtype  \n",
      "---  ------                  --------------  -----  \n",
      " 0   Event.Id                88889 non-null  object \n",
      " 1   Investigation.Type      88889 non-null  object \n",
      " 2   Accident.Number         88889 non-null  object \n",
      " 3   Event.Date              88889 non-null  object \n",
      " 4   Location                88837 non-null  object \n",
      " 5   Country                 88663 non-null  object \n",
      " 6   Injury.Severity         87889 non-null  object \n",
      " 7   Aircraft.damage         85695 non-null  object \n",
      " 8   Aircraft.Category       32287 non-null  object \n",
      " 9   Make                    88826 non-null  object \n",
      " 10  Model                   88797 non-null  object \n",
      " 11  Number.of.Engines       82805 non-null  float64\n",
      " 12  Engine.Type             81793 non-null  object \n",
      " 13  Purpose.of.flight       82697 non-null  object \n",
      " 14  Total.Fatal.Injuries    77488 non-null  float64\n",
      " 15  Total.Serious.Injuries  76379 non-null  float64\n",
      " 16  Total.Minor.Injuries    76956 non-null  float64\n",
      " 17  Total.Uninjured         82977 non-null  float64\n",
      " 18  Weather.Condition       84397 non-null  object \n",
      " 19  Broad.phase.of.flight   61724 non-null  object \n",
      " 20  Report.Status           82505 non-null  object \n",
      " 21  Publication.Date        75118 non-null  object \n",
      "dtypes: float64(5), object(17)\n",
      "memory usage: 14.9+ MB\n"
     ]
    }
   ],
   "source": [
    "aviation_df.info()"
   ]
  },
  {
   "cell_type": "code",
   "execution_count": 462,
   "id": "4e59c621-5924-4a85-8f28-d5fa37b1b156",
   "metadata": {
    "tags": []
   },
   "outputs": [
    {
     "data": {
      "text/plain": [
       "(88889, 22)"
      ]
     },
     "execution_count": 462,
     "metadata": {},
     "output_type": "execute_result"
    }
   ],
   "source": [
    "aviation_df.shape #check the shape of the dataframe"
   ]
  },
  {
   "cell_type": "code",
   "execution_count": 463,
   "id": "2dd5a1d8-cb25-4a2c-b2df-8bba036186c4",
   "metadata": {
    "tags": []
   },
   "outputs": [
    {
     "data": {
      "text/plain": [
       "Index(['Event.Id', 'Investigation.Type', 'Accident.Number', 'Event.Date',\n",
       "       'Location', 'Country', 'Injury.Severity', 'Aircraft.damage',\n",
       "       'Aircraft.Category', 'Make', 'Model', 'Number.of.Engines',\n",
       "       'Engine.Type', 'Purpose.of.flight', 'Total.Fatal.Injuries',\n",
       "       'Total.Serious.Injuries', 'Total.Minor.Injuries', 'Total.Uninjured',\n",
       "       'Weather.Condition', 'Broad.phase.of.flight', 'Report.Status',\n",
       "       'Publication.Date'],\n",
       "      dtype='object')"
      ]
     },
     "execution_count": 463,
     "metadata": {},
     "output_type": "execute_result"
    }
   ],
   "source": [
    "aviation_df.columns"
   ]
  },
  {
   "cell_type": "markdown",
   "id": "384038c9-25aa-4d05-9de8-27aef6745e46",
   "metadata": {},
   "source": [
    "## Check the most highest recurring Airplane Makes\n",
    "We check to ascertain the spread of the values and know which companies are most popular and affect the reslts the most"
   ]
  },
  {
   "cell_type": "code",
   "execution_count": 465,
   "id": "16550e89-751a-428f-b579-b1488d5053bd",
   "metadata": {
    "tags": []
   },
   "outputs": [
    {
     "data": {
      "text/plain": [
       "Make\n",
       "Cessna               22227\n",
       "Piper                12029\n",
       "CESSNA                4922\n",
       "Beech                 4330\n",
       "PIPER                 2841\n",
       "Bell                  2134\n",
       "Boeing                1594\n",
       "BOEING                1151\n",
       "Grumman               1094\n",
       "Mooney                1092\n",
       "BEECH                 1042\n",
       "Robinson               946\n",
       "Bellanca               886\n",
       "Hughes                 795\n",
       "Schweizer              629\n",
       "Air Tractor            595\n",
       "BELL                   588\n",
       "Mcdonnell Douglas      526\n",
       "Aeronca                487\n",
       "Maule                  445\n",
       "Name: count, dtype: int64"
      ]
     },
     "execution_count": 465,
     "metadata": {},
     "output_type": "execute_result"
    }
   ],
   "source": [
    "aviation_df['Make'].value_counts().head(20)"
   ]
  },
  {
   "cell_type": "markdown",
   "id": "af30897d-494d-48c6-be5f-84651d6179a8",
   "metadata": {},
   "source": [
    "## Check the most highest recurring Airplane Models"
   ]
  },
  {
   "cell_type": "code",
   "execution_count": 467,
   "id": "2c0361da-b16f-4725-aa4c-c3bc50217b1b",
   "metadata": {
    "tags": []
   },
   "outputs": [
    {
     "data": {
      "text/plain": [
       "Model\n",
       "152          2367\n",
       "172          1756\n",
       "172N         1164\n",
       "PA-28-140     932\n",
       "150           829\n",
       "172M          798\n",
       "172P          689\n",
       "182           659\n",
       "180           622\n",
       "150M          585\n",
       "PA-18         581\n",
       "PA-18-150     578\n",
       "PA-28-180     572\n",
       "PA-28-161     569\n",
       "PA-28-181     532\n",
       "206B          524\n",
       "737           489\n",
       "PA-38-112     469\n",
       "150L          461\n",
       "G-164A        460\n",
       "Name: count, dtype: int64"
      ]
     },
     "execution_count": 467,
     "metadata": {},
     "output_type": "execute_result"
    }
   ],
   "source": [
    "aviation_df['Model'].value_counts().head(20)"
   ]
  },
  {
   "cell_type": "markdown",
   "id": "b8dba9d1-c7ed-4e2c-be26-96e7ff585cf9",
   "metadata": {},
   "source": [
    "## Format The Make Column Into the Title Format \n",
    "Change the names into a title format for better combinations later after removing NaN values"
   ]
  },
  {
   "cell_type": "code",
   "execution_count": 469,
   "id": "4e6237cf-9d5f-4ccf-b806-65a3c34eba18",
   "metadata": {
    "tags": []
   },
   "outputs": [],
   "source": [
    "aviation_df['Make']=aviation_df['Make'].str.title()"
   ]
  },
  {
   "cell_type": "code",
   "execution_count": 470,
   "id": "fabfa75c-be2f-46e2-a49f-7fe08f3a6419",
   "metadata": {
    "tags": []
   },
   "outputs": [
    {
     "data": {
      "text/plain": [
       "Make\n",
       "Cessna               27149\n",
       "Piper                14870\n",
       "Beech                 5372\n",
       "Boeing                2745\n",
       "Bell                  2722\n",
       "Mooney                1334\n",
       "Robinson              1230\n",
       "Grumman               1172\n",
       "Bellanca              1045\n",
       "Hughes                 932\n",
       "Schweizer              773\n",
       "Air Tractor            691\n",
       "Aeronca                636\n",
       "Mcdonnell Douglas      608\n",
       "Maule                  589\n",
       "Champion               519\n",
       "Stinson                439\n",
       "Aero Commander         429\n",
       "De Havilland           422\n",
       "Luscombe               414\n",
       "Name: count, dtype: int64"
      ]
     },
     "execution_count": 470,
     "metadata": {},
     "output_type": "execute_result"
    }
   ],
   "source": [
    "aviation_df['Make'].value_counts().head(20)"
   ]
  },
  {
   "cell_type": "markdown",
   "id": "d588d79d-981d-44b2-bad3-053e5b58a43a",
   "metadata": {},
   "source": [
    "## Change the Event Date column to Date Time Format\n",
    "This is to help for better readability with our visualisation tool"
   ]
  },
  {
   "cell_type": "code",
   "execution_count": 472,
   "id": "75417791-20e2-43c7-b7d5-45a1367035e5",
   "metadata": {
    "tags": []
   },
   "outputs": [
    {
     "data": {
      "text/plain": [
       "0       1948-10-24\n",
       "1       1962-07-19\n",
       "2       1974-08-30\n",
       "3       1977-06-19\n",
       "4       1979-08-02\n",
       "           ...    \n",
       "88884   2022-12-26\n",
       "88885   2022-12-26\n",
       "88886   2022-12-26\n",
       "88887   2022-12-26\n",
       "88888   2022-12-29\n",
       "Name: Event.Date, Length: 88889, dtype: datetime64[ns]"
      ]
     },
     "execution_count": 472,
     "metadata": {},
     "output_type": "execute_result"
    }
   ],
   "source": [
    "pd.to_datetime(aviation_df['Event.Date'])"
   ]
  },
  {
   "cell_type": "code",
   "execution_count": 473,
   "id": "e86f50f0-16bd-4b9d-81e6-dbe0b3865b0a",
   "metadata": {
    "tags": []
   },
   "outputs": [
    {
     "data": {
      "text/html": [
       "<div>\n",
       "<style scoped>\n",
       "    .dataframe tbody tr th:only-of-type {\n",
       "        vertical-align: middle;\n",
       "    }\n",
       "\n",
       "    .dataframe tbody tr th {\n",
       "        vertical-align: top;\n",
       "    }\n",
       "\n",
       "    .dataframe thead th {\n",
       "        text-align: right;\n",
       "    }\n",
       "</style>\n",
       "<table border=\"1\" class=\"dataframe\">\n",
       "  <thead>\n",
       "    <tr style=\"text-align: right;\">\n",
       "      <th></th>\n",
       "      <th>Event.Id</th>\n",
       "      <th>Investigation.Type</th>\n",
       "      <th>Accident.Number</th>\n",
       "      <th>Event.Date</th>\n",
       "      <th>Location</th>\n",
       "      <th>Country</th>\n",
       "      <th>Injury.Severity</th>\n",
       "      <th>Aircraft.damage</th>\n",
       "      <th>Aircraft.Category</th>\n",
       "      <th>Make</th>\n",
       "      <th>...</th>\n",
       "      <th>Engine.Type</th>\n",
       "      <th>Purpose.of.flight</th>\n",
       "      <th>Total.Fatal.Injuries</th>\n",
       "      <th>Total.Serious.Injuries</th>\n",
       "      <th>Total.Minor.Injuries</th>\n",
       "      <th>Total.Uninjured</th>\n",
       "      <th>Weather.Condition</th>\n",
       "      <th>Broad.phase.of.flight</th>\n",
       "      <th>Report.Status</th>\n",
       "      <th>Publication.Date</th>\n",
       "    </tr>\n",
       "  </thead>\n",
       "  <tbody>\n",
       "    <tr>\n",
       "      <th>0</th>\n",
       "      <td>20001218X45444</td>\n",
       "      <td>Accident</td>\n",
       "      <td>SEA87LA080</td>\n",
       "      <td>1948-10-24</td>\n",
       "      <td>MOOSE CREEK, ID</td>\n",
       "      <td>United States</td>\n",
       "      <td>Fatal(2)</td>\n",
       "      <td>Destroyed</td>\n",
       "      <td>NaN</td>\n",
       "      <td>Stinson</td>\n",
       "      <td>...</td>\n",
       "      <td>Reciprocating</td>\n",
       "      <td>Personal</td>\n",
       "      <td>2.0</td>\n",
       "      <td>0.0</td>\n",
       "      <td>0.0</td>\n",
       "      <td>0.0</td>\n",
       "      <td>UNK</td>\n",
       "      <td>Cruise</td>\n",
       "      <td>Probable Cause</td>\n",
       "      <td>NaN</td>\n",
       "    </tr>\n",
       "    <tr>\n",
       "      <th>1</th>\n",
       "      <td>20001218X45447</td>\n",
       "      <td>Accident</td>\n",
       "      <td>LAX94LA336</td>\n",
       "      <td>1962-07-19</td>\n",
       "      <td>BRIDGEPORT, CA</td>\n",
       "      <td>United States</td>\n",
       "      <td>Fatal(4)</td>\n",
       "      <td>Destroyed</td>\n",
       "      <td>NaN</td>\n",
       "      <td>Piper</td>\n",
       "      <td>...</td>\n",
       "      <td>Reciprocating</td>\n",
       "      <td>Personal</td>\n",
       "      <td>4.0</td>\n",
       "      <td>0.0</td>\n",
       "      <td>0.0</td>\n",
       "      <td>0.0</td>\n",
       "      <td>UNK</td>\n",
       "      <td>Unknown</td>\n",
       "      <td>Probable Cause</td>\n",
       "      <td>19-09-1996</td>\n",
       "    </tr>\n",
       "    <tr>\n",
       "      <th>2</th>\n",
       "      <td>20061025X01555</td>\n",
       "      <td>Accident</td>\n",
       "      <td>NYC07LA005</td>\n",
       "      <td>1974-08-30</td>\n",
       "      <td>Saltville, VA</td>\n",
       "      <td>United States</td>\n",
       "      <td>Fatal(3)</td>\n",
       "      <td>Destroyed</td>\n",
       "      <td>NaN</td>\n",
       "      <td>Cessna</td>\n",
       "      <td>...</td>\n",
       "      <td>Reciprocating</td>\n",
       "      <td>Personal</td>\n",
       "      <td>3.0</td>\n",
       "      <td>NaN</td>\n",
       "      <td>NaN</td>\n",
       "      <td>NaN</td>\n",
       "      <td>IMC</td>\n",
       "      <td>Cruise</td>\n",
       "      <td>Probable Cause</td>\n",
       "      <td>26-02-2007</td>\n",
       "    </tr>\n",
       "    <tr>\n",
       "      <th>3</th>\n",
       "      <td>20001218X45448</td>\n",
       "      <td>Accident</td>\n",
       "      <td>LAX96LA321</td>\n",
       "      <td>1977-06-19</td>\n",
       "      <td>EUREKA, CA</td>\n",
       "      <td>United States</td>\n",
       "      <td>Fatal(2)</td>\n",
       "      <td>Destroyed</td>\n",
       "      <td>NaN</td>\n",
       "      <td>Rockwell</td>\n",
       "      <td>...</td>\n",
       "      <td>Reciprocating</td>\n",
       "      <td>Personal</td>\n",
       "      <td>2.0</td>\n",
       "      <td>0.0</td>\n",
       "      <td>0.0</td>\n",
       "      <td>0.0</td>\n",
       "      <td>IMC</td>\n",
       "      <td>Cruise</td>\n",
       "      <td>Probable Cause</td>\n",
       "      <td>12-09-2000</td>\n",
       "    </tr>\n",
       "    <tr>\n",
       "      <th>4</th>\n",
       "      <td>20041105X01764</td>\n",
       "      <td>Accident</td>\n",
       "      <td>CHI79FA064</td>\n",
       "      <td>1979-08-02</td>\n",
       "      <td>Canton, OH</td>\n",
       "      <td>United States</td>\n",
       "      <td>Fatal(1)</td>\n",
       "      <td>Destroyed</td>\n",
       "      <td>NaN</td>\n",
       "      <td>Cessna</td>\n",
       "      <td>...</td>\n",
       "      <td>NaN</td>\n",
       "      <td>Personal</td>\n",
       "      <td>1.0</td>\n",
       "      <td>2.0</td>\n",
       "      <td>NaN</td>\n",
       "      <td>0.0</td>\n",
       "      <td>VMC</td>\n",
       "      <td>Approach</td>\n",
       "      <td>Probable Cause</td>\n",
       "      <td>16-04-1980</td>\n",
       "    </tr>\n",
       "  </tbody>\n",
       "</table>\n",
       "<p>5 rows × 22 columns</p>\n",
       "</div>"
      ],
      "text/plain": [
       "         Event.Id Investigation.Type Accident.Number  Event.Date  \\\n",
       "0  20001218X45444           Accident      SEA87LA080  1948-10-24   \n",
       "1  20001218X45447           Accident      LAX94LA336  1962-07-19   \n",
       "2  20061025X01555           Accident      NYC07LA005  1974-08-30   \n",
       "3  20001218X45448           Accident      LAX96LA321  1977-06-19   \n",
       "4  20041105X01764           Accident      CHI79FA064  1979-08-02   \n",
       "\n",
       "          Location        Country Injury.Severity Aircraft.damage  \\\n",
       "0  MOOSE CREEK, ID  United States        Fatal(2)       Destroyed   \n",
       "1   BRIDGEPORT, CA  United States        Fatal(4)       Destroyed   \n",
       "2    Saltville, VA  United States        Fatal(3)       Destroyed   \n",
       "3       EUREKA, CA  United States        Fatal(2)       Destroyed   \n",
       "4       Canton, OH  United States        Fatal(1)       Destroyed   \n",
       "\n",
       "  Aircraft.Category      Make  ...    Engine.Type  Purpose.of.flight  \\\n",
       "0               NaN   Stinson  ...  Reciprocating           Personal   \n",
       "1               NaN     Piper  ...  Reciprocating           Personal   \n",
       "2               NaN    Cessna  ...  Reciprocating           Personal   \n",
       "3               NaN  Rockwell  ...  Reciprocating           Personal   \n",
       "4               NaN    Cessna  ...            NaN           Personal   \n",
       "\n",
       "  Total.Fatal.Injuries Total.Serious.Injuries  Total.Minor.Injuries  \\\n",
       "0                  2.0                    0.0                   0.0   \n",
       "1                  4.0                    0.0                   0.0   \n",
       "2                  3.0                    NaN                   NaN   \n",
       "3                  2.0                    0.0                   0.0   \n",
       "4                  1.0                    2.0                   NaN   \n",
       "\n",
       "   Total.Uninjured  Weather.Condition  Broad.phase.of.flight   Report.Status  \\\n",
       "0              0.0                UNK                 Cruise  Probable Cause   \n",
       "1              0.0                UNK                Unknown  Probable Cause   \n",
       "2              NaN                IMC                 Cruise  Probable Cause   \n",
       "3              0.0                IMC                 Cruise  Probable Cause   \n",
       "4              0.0                VMC               Approach  Probable Cause   \n",
       "\n",
       "  Publication.Date  \n",
       "0              NaN  \n",
       "1       19-09-1996  \n",
       "2       26-02-2007  \n",
       "3       12-09-2000  \n",
       "4       16-04-1980  \n",
       "\n",
       "[5 rows x 22 columns]"
      ]
     },
     "execution_count": 473,
     "metadata": {},
     "output_type": "execute_result"
    }
   ],
   "source": [
    "aviation_df.head()"
   ]
  },
  {
   "cell_type": "markdown",
   "id": "3ad69828-0784-4d45-ab16-6725504df0ef",
   "metadata": {
    "tags": []
   },
   "source": [
    "## Use a function to Create a new column filtering out data in the report status column to the following:\n",
    "-Pilot\n",
    "-Engine\n",
    "-Turbulence\n",
    "-Fuel\n",
    "-Weather\n",
    "-Animals\n",
    "-Unknown"
   ]
  },
  {
   "cell_type": "markdown",
   "id": "4d4a0a4b-9f34-48b5-ae31-a45472bda162",
   "metadata": {},
   "source": [
    "## Check for specific weather-related words in the 'Report.Status' column and create a new column 'Cause_As_Per_Report'"
   ]
  },
  {
   "cell_type": "code",
   "execution_count": 476,
   "id": "f572e57d-da9a-4ca4-a7d6-6c9f3be201c6",
   "metadata": {
    "tags": []
   },
   "outputs": [],
   "source": [
    "#I'll use Numpy library to perform this operation using np.where as the conditional operator\n",
    "import numpy as np\n",
    "aviation_df['Cause_As_Per_Report'] = np.where(\n",
    "    aviation_df['Report.Status'].str.contains('pilot|decision', case=False), 'pilot',\n",
    "    np.where(\n",
    "        aviation_df['Report.Status'].str.contains('engine|broken|loose|fatigue', case=False), 'engine',\n",
    "        #Aircraft fatigue, also called metal fatigue, \n",
    "        #occurs when metal aircraft components age and weaken over time after repeated exposure to environmental factors\n",
    "        np.where(\n",
    "            aviation_df['Report.Status'].str.contains('fuel|fire', case=False), 'Fuel',\n",
    "            np.where(\n",
    "                aviation_df['Report.Status'].str.contains('weather|rain|snow|hail|turbulence', case=False), 'Weather',\n",
    "                np.where(\n",
    "                    aviation_df['Report.Status'].str.contains('bird|deer|collision', case=False), 'Animals',\n",
    "                    np.where(\n",
    "                        aviation_df['Report.Status'].str.contains('Probable Cause|could not be determined', case=False), 'Unknown',\n",
    "            'Other'))))))#could not be determined"
   ]
  },
  {
   "cell_type": "code",
   "execution_count": 477,
   "id": "987fc427-f988-4467-b0c3-0121c6161e20",
   "metadata": {
    "tags": []
   },
   "outputs": [
    {
     "data": {
      "text/html": [
       "<div>\n",
       "<style scoped>\n",
       "    .dataframe tbody tr th:only-of-type {\n",
       "        vertical-align: middle;\n",
       "    }\n",
       "\n",
       "    .dataframe tbody tr th {\n",
       "        vertical-align: top;\n",
       "    }\n",
       "\n",
       "    .dataframe thead th {\n",
       "        text-align: right;\n",
       "    }\n",
       "</style>\n",
       "<table border=\"1\" class=\"dataframe\">\n",
       "  <thead>\n",
       "    <tr style=\"text-align: right;\">\n",
       "      <th></th>\n",
       "      <th>Event.Id</th>\n",
       "      <th>Investigation.Type</th>\n",
       "      <th>Accident.Number</th>\n",
       "      <th>Event.Date</th>\n",
       "      <th>Location</th>\n",
       "      <th>Country</th>\n",
       "      <th>Injury.Severity</th>\n",
       "      <th>Aircraft.damage</th>\n",
       "      <th>Aircraft.Category</th>\n",
       "      <th>Make</th>\n",
       "      <th>...</th>\n",
       "      <th>Purpose.of.flight</th>\n",
       "      <th>Total.Fatal.Injuries</th>\n",
       "      <th>Total.Serious.Injuries</th>\n",
       "      <th>Total.Minor.Injuries</th>\n",
       "      <th>Total.Uninjured</th>\n",
       "      <th>Weather.Condition</th>\n",
       "      <th>Broad.phase.of.flight</th>\n",
       "      <th>Report.Status</th>\n",
       "      <th>Publication.Date</th>\n",
       "      <th>Cause_As_Per_Report</th>\n",
       "    </tr>\n",
       "  </thead>\n",
       "  <tbody>\n",
       "    <tr>\n",
       "      <th>88869</th>\n",
       "      <td>20221213106455</td>\n",
       "      <td>Accident</td>\n",
       "      <td>WPR23LA065</td>\n",
       "      <td>2022-12-13</td>\n",
       "      <td>Lewistown, MT</td>\n",
       "      <td>United States</td>\n",
       "      <td>Non-Fatal</td>\n",
       "      <td>Substantial</td>\n",
       "      <td>Airplane</td>\n",
       "      <td>Piper</td>\n",
       "      <td>...</td>\n",
       "      <td>NaN</td>\n",
       "      <td>0.0</td>\n",
       "      <td>0.0</td>\n",
       "      <td>0.0</td>\n",
       "      <td>1.0</td>\n",
       "      <td>NaN</td>\n",
       "      <td>NaN</td>\n",
       "      <td>NaN</td>\n",
       "      <td>14-12-2022</td>\n",
       "      <td>pilot</td>\n",
       "    </tr>\n",
       "    <tr>\n",
       "      <th>88870</th>\n",
       "      <td>20221215106461</td>\n",
       "      <td>Accident</td>\n",
       "      <td>ERA23LA089</td>\n",
       "      <td>2022-12-13</td>\n",
       "      <td>Rockingham, NC</td>\n",
       "      <td>United States</td>\n",
       "      <td>Non-Fatal</td>\n",
       "      <td>NaN</td>\n",
       "      <td>NaN</td>\n",
       "      <td>Piper</td>\n",
       "      <td>...</td>\n",
       "      <td>NaN</td>\n",
       "      <td>0.0</td>\n",
       "      <td>0.0</td>\n",
       "      <td>0.0</td>\n",
       "      <td>2.0</td>\n",
       "      <td>NaN</td>\n",
       "      <td>NaN</td>\n",
       "      <td>NaN</td>\n",
       "      <td>20-12-2022</td>\n",
       "      <td>pilot</td>\n",
       "    </tr>\n",
       "    <tr>\n",
       "      <th>88871</th>\n",
       "      <td>20221220106480</td>\n",
       "      <td>Accident</td>\n",
       "      <td>WPR23LA072</td>\n",
       "      <td>2022-12-13</td>\n",
       "      <td>Liberal, KS</td>\n",
       "      <td>United States</td>\n",
       "      <td>Non-Fatal</td>\n",
       "      <td>NaN</td>\n",
       "      <td>NaN</td>\n",
       "      <td>Cessna</td>\n",
       "      <td>...</td>\n",
       "      <td>NaN</td>\n",
       "      <td>0.0</td>\n",
       "      <td>0.0</td>\n",
       "      <td>0.0</td>\n",
       "      <td>0.0</td>\n",
       "      <td>NaN</td>\n",
       "      <td>NaN</td>\n",
       "      <td>NaN</td>\n",
       "      <td>20-12-2022</td>\n",
       "      <td>pilot</td>\n",
       "    </tr>\n",
       "    <tr>\n",
       "      <th>88872</th>\n",
       "      <td>20221214106459</td>\n",
       "      <td>Accident</td>\n",
       "      <td>GAA23WA042</td>\n",
       "      <td>2022-12-14</td>\n",
       "      <td>Happy Valley-Goose Bay, OF</td>\n",
       "      <td>Canada</td>\n",
       "      <td>Serious</td>\n",
       "      <td>NaN</td>\n",
       "      <td>NaN</td>\n",
       "      <td>Piper</td>\n",
       "      <td>...</td>\n",
       "      <td>NaN</td>\n",
       "      <td>0.0</td>\n",
       "      <td>0.0</td>\n",
       "      <td>2.0</td>\n",
       "      <td>0.0</td>\n",
       "      <td>NaN</td>\n",
       "      <td>NaN</td>\n",
       "      <td>NaN</td>\n",
       "      <td>20-12-2022</td>\n",
       "      <td>pilot</td>\n",
       "    </tr>\n",
       "    <tr>\n",
       "      <th>88873</th>\n",
       "      <td>20221215106463</td>\n",
       "      <td>Accident</td>\n",
       "      <td>ERA23LA090</td>\n",
       "      <td>2022-12-14</td>\n",
       "      <td>San Juan, PR</td>\n",
       "      <td>United States</td>\n",
       "      <td>Non-Fatal</td>\n",
       "      <td>Substantial</td>\n",
       "      <td>Airplane</td>\n",
       "      <td>Cirrus Design Corp</td>\n",
       "      <td>...</td>\n",
       "      <td>Personal</td>\n",
       "      <td>0.0</td>\n",
       "      <td>0.0</td>\n",
       "      <td>0.0</td>\n",
       "      <td>1.0</td>\n",
       "      <td>VMC</td>\n",
       "      <td>NaN</td>\n",
       "      <td>NaN</td>\n",
       "      <td>27-12-2022</td>\n",
       "      <td>pilot</td>\n",
       "    </tr>\n",
       "    <tr>\n",
       "      <th>88874</th>\n",
       "      <td>20221215106462</td>\n",
       "      <td>Accident</td>\n",
       "      <td>CEN23LA064</td>\n",
       "      <td>2022-12-15</td>\n",
       "      <td>Patterson, LA</td>\n",
       "      <td>United States</td>\n",
       "      <td>NaN</td>\n",
       "      <td>NaN</td>\n",
       "      <td>NaN</td>\n",
       "      <td>Bell</td>\n",
       "      <td>...</td>\n",
       "      <td>NaN</td>\n",
       "      <td>0.0</td>\n",
       "      <td>0.0</td>\n",
       "      <td>0.0</td>\n",
       "      <td>0.0</td>\n",
       "      <td>NaN</td>\n",
       "      <td>NaN</td>\n",
       "      <td>NaN</td>\n",
       "      <td>NaN</td>\n",
       "      <td>pilot</td>\n",
       "    </tr>\n",
       "    <tr>\n",
       "      <th>88875</th>\n",
       "      <td>20221219106474</td>\n",
       "      <td>Accident</td>\n",
       "      <td>ANC23LA009</td>\n",
       "      <td>2022-12-15</td>\n",
       "      <td>Lihue, HI</td>\n",
       "      <td>United States</td>\n",
       "      <td>Serious</td>\n",
       "      <td>NaN</td>\n",
       "      <td>NaN</td>\n",
       "      <td>Beech</td>\n",
       "      <td>...</td>\n",
       "      <td>NaN</td>\n",
       "      <td>0.0</td>\n",
       "      <td>1.0</td>\n",
       "      <td>1.0</td>\n",
       "      <td>0.0</td>\n",
       "      <td>NaN</td>\n",
       "      <td>NaN</td>\n",
       "      <td>NaN</td>\n",
       "      <td>22-12-2022</td>\n",
       "      <td>pilot</td>\n",
       "    </tr>\n",
       "    <tr>\n",
       "      <th>88876</th>\n",
       "      <td>20221219106475</td>\n",
       "      <td>Accident</td>\n",
       "      <td>WPR23LA069</td>\n",
       "      <td>2022-12-15</td>\n",
       "      <td>Wichita, KS</td>\n",
       "      <td>United States</td>\n",
       "      <td>Non-Fatal</td>\n",
       "      <td>Substantial</td>\n",
       "      <td>Airplane</td>\n",
       "      <td>Swearingen</td>\n",
       "      <td>...</td>\n",
       "      <td>NaN</td>\n",
       "      <td>0.0</td>\n",
       "      <td>0.0</td>\n",
       "      <td>0.0</td>\n",
       "      <td>1.0</td>\n",
       "      <td>NaN</td>\n",
       "      <td>NaN</td>\n",
       "      <td>NaN</td>\n",
       "      <td>19-12-2022</td>\n",
       "      <td>pilot</td>\n",
       "    </tr>\n",
       "    <tr>\n",
       "      <th>88877</th>\n",
       "      <td>20221219106470</td>\n",
       "      <td>Accident</td>\n",
       "      <td>ERA23LA091</td>\n",
       "      <td>2022-12-16</td>\n",
       "      <td>Brooksville, FL</td>\n",
       "      <td>United States</td>\n",
       "      <td>Minor</td>\n",
       "      <td>Substantial</td>\n",
       "      <td>Airplane</td>\n",
       "      <td>Cessna</td>\n",
       "      <td>...</td>\n",
       "      <td>Personal</td>\n",
       "      <td>0.0</td>\n",
       "      <td>1.0</td>\n",
       "      <td>0.0</td>\n",
       "      <td>0.0</td>\n",
       "      <td>VMC</td>\n",
       "      <td>NaN</td>\n",
       "      <td>NaN</td>\n",
       "      <td>23-12-2022</td>\n",
       "      <td>pilot</td>\n",
       "    </tr>\n",
       "    <tr>\n",
       "      <th>88878</th>\n",
       "      <td>20221227106496</td>\n",
       "      <td>Accident</td>\n",
       "      <td>WPR23LA074</td>\n",
       "      <td>2022-12-17</td>\n",
       "      <td>Cottonwood, CA</td>\n",
       "      <td>United States</td>\n",
       "      <td>Minor</td>\n",
       "      <td>NaN</td>\n",
       "      <td>NaN</td>\n",
       "      <td>Royse Ralph L</td>\n",
       "      <td>...</td>\n",
       "      <td>Personal</td>\n",
       "      <td>0.0</td>\n",
       "      <td>1.0</td>\n",
       "      <td>0.0</td>\n",
       "      <td>0.0</td>\n",
       "      <td>NaN</td>\n",
       "      <td>NaN</td>\n",
       "      <td>NaN</td>\n",
       "      <td>27-12-2022</td>\n",
       "      <td>pilot</td>\n",
       "    </tr>\n",
       "    <tr>\n",
       "      <th>88879</th>\n",
       "      <td>20221219106472</td>\n",
       "      <td>Accident</td>\n",
       "      <td>DCA23LA096</td>\n",
       "      <td>2022-12-18</td>\n",
       "      <td>Kahului, HI</td>\n",
       "      <td>United States</td>\n",
       "      <td>NaN</td>\n",
       "      <td>NaN</td>\n",
       "      <td>NaN</td>\n",
       "      <td>Airbus</td>\n",
       "      <td>...</td>\n",
       "      <td>NaN</td>\n",
       "      <td>0.0</td>\n",
       "      <td>0.0</td>\n",
       "      <td>0.0</td>\n",
       "      <td>0.0</td>\n",
       "      <td>NaN</td>\n",
       "      <td>NaN</td>\n",
       "      <td>NaN</td>\n",
       "      <td>NaN</td>\n",
       "      <td>pilot</td>\n",
       "    </tr>\n",
       "    <tr>\n",
       "      <th>88880</th>\n",
       "      <td>20221219106477</td>\n",
       "      <td>Accident</td>\n",
       "      <td>WPR23LA071</td>\n",
       "      <td>2022-12-18</td>\n",
       "      <td>San Manual, AZ</td>\n",
       "      <td>United States</td>\n",
       "      <td>Non-Fatal</td>\n",
       "      <td>NaN</td>\n",
       "      <td>NaN</td>\n",
       "      <td>Piper</td>\n",
       "      <td>...</td>\n",
       "      <td>Personal</td>\n",
       "      <td>0.0</td>\n",
       "      <td>0.0</td>\n",
       "      <td>0.0</td>\n",
       "      <td>3.0</td>\n",
       "      <td>NaN</td>\n",
       "      <td>NaN</td>\n",
       "      <td>NaN</td>\n",
       "      <td>20-12-2022</td>\n",
       "      <td>pilot</td>\n",
       "    </tr>\n",
       "    <tr>\n",
       "      <th>88881</th>\n",
       "      <td>20221221106483</td>\n",
       "      <td>Accident</td>\n",
       "      <td>CEN23LA067</td>\n",
       "      <td>2022-12-21</td>\n",
       "      <td>Auburn Hills, MI</td>\n",
       "      <td>United States</td>\n",
       "      <td>Minor</td>\n",
       "      <td>NaN</td>\n",
       "      <td>NaN</td>\n",
       "      <td>Cessna</td>\n",
       "      <td>...</td>\n",
       "      <td>Personal</td>\n",
       "      <td>0.0</td>\n",
       "      <td>1.0</td>\n",
       "      <td>0.0</td>\n",
       "      <td>0.0</td>\n",
       "      <td>NaN</td>\n",
       "      <td>NaN</td>\n",
       "      <td>NaN</td>\n",
       "      <td>22-12-2022</td>\n",
       "      <td>pilot</td>\n",
       "    </tr>\n",
       "    <tr>\n",
       "      <th>88882</th>\n",
       "      <td>20221222106486</td>\n",
       "      <td>Accident</td>\n",
       "      <td>CEN23LA068</td>\n",
       "      <td>2022-12-21</td>\n",
       "      <td>Reserve, LA</td>\n",
       "      <td>United States</td>\n",
       "      <td>Minor</td>\n",
       "      <td>NaN</td>\n",
       "      <td>NaN</td>\n",
       "      <td>Grumman American Avn. Corp.</td>\n",
       "      <td>...</td>\n",
       "      <td>Instructional</td>\n",
       "      <td>0.0</td>\n",
       "      <td>1.0</td>\n",
       "      <td>0.0</td>\n",
       "      <td>1.0</td>\n",
       "      <td>NaN</td>\n",
       "      <td>NaN</td>\n",
       "      <td>NaN</td>\n",
       "      <td>27-12-2022</td>\n",
       "      <td>pilot</td>\n",
       "    </tr>\n",
       "    <tr>\n",
       "      <th>88883</th>\n",
       "      <td>20221228106502</td>\n",
       "      <td>Accident</td>\n",
       "      <td>GAA23WA046</td>\n",
       "      <td>2022-12-22</td>\n",
       "      <td>Brasnorte,</td>\n",
       "      <td>Brazil</td>\n",
       "      <td>Fatal</td>\n",
       "      <td>NaN</td>\n",
       "      <td>NaN</td>\n",
       "      <td>Air Tractor</td>\n",
       "      <td>...</td>\n",
       "      <td>NaN</td>\n",
       "      <td>1.0</td>\n",
       "      <td>0.0</td>\n",
       "      <td>0.0</td>\n",
       "      <td>0.0</td>\n",
       "      <td>NaN</td>\n",
       "      <td>NaN</td>\n",
       "      <td>NaN</td>\n",
       "      <td>28-12-2022</td>\n",
       "      <td>pilot</td>\n",
       "    </tr>\n",
       "    <tr>\n",
       "      <th>88884</th>\n",
       "      <td>20221227106491</td>\n",
       "      <td>Accident</td>\n",
       "      <td>ERA23LA093</td>\n",
       "      <td>2022-12-26</td>\n",
       "      <td>Annapolis, MD</td>\n",
       "      <td>United States</td>\n",
       "      <td>Minor</td>\n",
       "      <td>NaN</td>\n",
       "      <td>NaN</td>\n",
       "      <td>Piper</td>\n",
       "      <td>...</td>\n",
       "      <td>Personal</td>\n",
       "      <td>0.0</td>\n",
       "      <td>1.0</td>\n",
       "      <td>0.0</td>\n",
       "      <td>0.0</td>\n",
       "      <td>NaN</td>\n",
       "      <td>NaN</td>\n",
       "      <td>NaN</td>\n",
       "      <td>29-12-2022</td>\n",
       "      <td>pilot</td>\n",
       "    </tr>\n",
       "    <tr>\n",
       "      <th>88885</th>\n",
       "      <td>20221227106494</td>\n",
       "      <td>Accident</td>\n",
       "      <td>ERA23LA095</td>\n",
       "      <td>2022-12-26</td>\n",
       "      <td>Hampton, NH</td>\n",
       "      <td>United States</td>\n",
       "      <td>NaN</td>\n",
       "      <td>NaN</td>\n",
       "      <td>NaN</td>\n",
       "      <td>Bellanca</td>\n",
       "      <td>...</td>\n",
       "      <td>NaN</td>\n",
       "      <td>0.0</td>\n",
       "      <td>0.0</td>\n",
       "      <td>0.0</td>\n",
       "      <td>0.0</td>\n",
       "      <td>NaN</td>\n",
       "      <td>NaN</td>\n",
       "      <td>NaN</td>\n",
       "      <td>NaN</td>\n",
       "      <td>pilot</td>\n",
       "    </tr>\n",
       "    <tr>\n",
       "      <th>88886</th>\n",
       "      <td>20221227106497</td>\n",
       "      <td>Accident</td>\n",
       "      <td>WPR23LA075</td>\n",
       "      <td>2022-12-26</td>\n",
       "      <td>Payson, AZ</td>\n",
       "      <td>United States</td>\n",
       "      <td>Non-Fatal</td>\n",
       "      <td>Substantial</td>\n",
       "      <td>Airplane</td>\n",
       "      <td>American Champion Aircraft</td>\n",
       "      <td>...</td>\n",
       "      <td>Personal</td>\n",
       "      <td>0.0</td>\n",
       "      <td>0.0</td>\n",
       "      <td>0.0</td>\n",
       "      <td>1.0</td>\n",
       "      <td>VMC</td>\n",
       "      <td>NaN</td>\n",
       "      <td>NaN</td>\n",
       "      <td>27-12-2022</td>\n",
       "      <td>pilot</td>\n",
       "    </tr>\n",
       "    <tr>\n",
       "      <th>88887</th>\n",
       "      <td>20221227106498</td>\n",
       "      <td>Accident</td>\n",
       "      <td>WPR23LA076</td>\n",
       "      <td>2022-12-26</td>\n",
       "      <td>Morgan, UT</td>\n",
       "      <td>United States</td>\n",
       "      <td>NaN</td>\n",
       "      <td>NaN</td>\n",
       "      <td>NaN</td>\n",
       "      <td>Cessna</td>\n",
       "      <td>...</td>\n",
       "      <td>Personal</td>\n",
       "      <td>0.0</td>\n",
       "      <td>0.0</td>\n",
       "      <td>0.0</td>\n",
       "      <td>0.0</td>\n",
       "      <td>NaN</td>\n",
       "      <td>NaN</td>\n",
       "      <td>NaN</td>\n",
       "      <td>NaN</td>\n",
       "      <td>pilot</td>\n",
       "    </tr>\n",
       "    <tr>\n",
       "      <th>88888</th>\n",
       "      <td>20221230106513</td>\n",
       "      <td>Accident</td>\n",
       "      <td>ERA23LA097</td>\n",
       "      <td>2022-12-29</td>\n",
       "      <td>Athens, GA</td>\n",
       "      <td>United States</td>\n",
       "      <td>Minor</td>\n",
       "      <td>NaN</td>\n",
       "      <td>NaN</td>\n",
       "      <td>Piper</td>\n",
       "      <td>...</td>\n",
       "      <td>Personal</td>\n",
       "      <td>0.0</td>\n",
       "      <td>1.0</td>\n",
       "      <td>0.0</td>\n",
       "      <td>1.0</td>\n",
       "      <td>NaN</td>\n",
       "      <td>NaN</td>\n",
       "      <td>NaN</td>\n",
       "      <td>30-12-2022</td>\n",
       "      <td>pilot</td>\n",
       "    </tr>\n",
       "  </tbody>\n",
       "</table>\n",
       "<p>20 rows × 23 columns</p>\n",
       "</div>"
      ],
      "text/plain": [
       "             Event.Id Investigation.Type Accident.Number  Event.Date  \\\n",
       "88869  20221213106455           Accident      WPR23LA065  2022-12-13   \n",
       "88870  20221215106461           Accident      ERA23LA089  2022-12-13   \n",
       "88871  20221220106480           Accident      WPR23LA072  2022-12-13   \n",
       "88872  20221214106459           Accident      GAA23WA042  2022-12-14   \n",
       "88873  20221215106463           Accident      ERA23LA090  2022-12-14   \n",
       "88874  20221215106462           Accident      CEN23LA064  2022-12-15   \n",
       "88875  20221219106474           Accident      ANC23LA009  2022-12-15   \n",
       "88876  20221219106475           Accident      WPR23LA069  2022-12-15   \n",
       "88877  20221219106470           Accident      ERA23LA091  2022-12-16   \n",
       "88878  20221227106496           Accident      WPR23LA074  2022-12-17   \n",
       "88879  20221219106472           Accident      DCA23LA096  2022-12-18   \n",
       "88880  20221219106477           Accident      WPR23LA071  2022-12-18   \n",
       "88881  20221221106483           Accident      CEN23LA067  2022-12-21   \n",
       "88882  20221222106486           Accident      CEN23LA068  2022-12-21   \n",
       "88883  20221228106502           Accident      GAA23WA046  2022-12-22   \n",
       "88884  20221227106491           Accident      ERA23LA093  2022-12-26   \n",
       "88885  20221227106494           Accident      ERA23LA095  2022-12-26   \n",
       "88886  20221227106497           Accident      WPR23LA075  2022-12-26   \n",
       "88887  20221227106498           Accident      WPR23LA076  2022-12-26   \n",
       "88888  20221230106513           Accident      ERA23LA097  2022-12-29   \n",
       "\n",
       "                         Location        Country Injury.Severity  \\\n",
       "88869               Lewistown, MT  United States       Non-Fatal   \n",
       "88870              Rockingham, NC  United States       Non-Fatal   \n",
       "88871                 Liberal, KS  United States       Non-Fatal   \n",
       "88872  Happy Valley-Goose Bay, OF         Canada         Serious   \n",
       "88873                San Juan, PR  United States       Non-Fatal   \n",
       "88874               Patterson, LA  United States             NaN   \n",
       "88875                   Lihue, HI  United States         Serious   \n",
       "88876                 Wichita, KS  United States       Non-Fatal   \n",
       "88877             Brooksville, FL  United States           Minor   \n",
       "88878              Cottonwood, CA  United States           Minor   \n",
       "88879                 Kahului, HI  United States             NaN   \n",
       "88880              San Manual, AZ  United States       Non-Fatal   \n",
       "88881            Auburn Hills, MI  United States           Minor   \n",
       "88882                 Reserve, LA  United States           Minor   \n",
       "88883                 Brasnorte,          Brazil           Fatal   \n",
       "88884               Annapolis, MD  United States           Minor   \n",
       "88885                 Hampton, NH  United States             NaN   \n",
       "88886                  Payson, AZ  United States       Non-Fatal   \n",
       "88887                  Morgan, UT  United States             NaN   \n",
       "88888                  Athens, GA  United States           Minor   \n",
       "\n",
       "      Aircraft.damage Aircraft.Category                         Make  ...  \\\n",
       "88869     Substantial          Airplane                        Piper  ...   \n",
       "88870             NaN               NaN                        Piper  ...   \n",
       "88871             NaN               NaN                       Cessna  ...   \n",
       "88872             NaN               NaN                        Piper  ...   \n",
       "88873     Substantial          Airplane           Cirrus Design Corp  ...   \n",
       "88874             NaN               NaN                         Bell  ...   \n",
       "88875             NaN               NaN                        Beech  ...   \n",
       "88876     Substantial          Airplane                   Swearingen  ...   \n",
       "88877     Substantial          Airplane                       Cessna  ...   \n",
       "88878             NaN               NaN                Royse Ralph L  ...   \n",
       "88879             NaN               NaN                       Airbus  ...   \n",
       "88880             NaN               NaN                        Piper  ...   \n",
       "88881             NaN               NaN                       Cessna  ...   \n",
       "88882             NaN               NaN  Grumman American Avn. Corp.  ...   \n",
       "88883             NaN               NaN                  Air Tractor  ...   \n",
       "88884             NaN               NaN                        Piper  ...   \n",
       "88885             NaN               NaN                     Bellanca  ...   \n",
       "88886     Substantial          Airplane   American Champion Aircraft  ...   \n",
       "88887             NaN               NaN                       Cessna  ...   \n",
       "88888             NaN               NaN                        Piper  ...   \n",
       "\n",
       "      Purpose.of.flight  Total.Fatal.Injuries Total.Serious.Injuries  \\\n",
       "88869               NaN                   0.0                    0.0   \n",
       "88870               NaN                   0.0                    0.0   \n",
       "88871               NaN                   0.0                    0.0   \n",
       "88872               NaN                   0.0                    0.0   \n",
       "88873          Personal                   0.0                    0.0   \n",
       "88874               NaN                   0.0                    0.0   \n",
       "88875               NaN                   0.0                    1.0   \n",
       "88876               NaN                   0.0                    0.0   \n",
       "88877          Personal                   0.0                    1.0   \n",
       "88878          Personal                   0.0                    1.0   \n",
       "88879               NaN                   0.0                    0.0   \n",
       "88880          Personal                   0.0                    0.0   \n",
       "88881          Personal                   0.0                    1.0   \n",
       "88882     Instructional                   0.0                    1.0   \n",
       "88883               NaN                   1.0                    0.0   \n",
       "88884          Personal                   0.0                    1.0   \n",
       "88885               NaN                   0.0                    0.0   \n",
       "88886          Personal                   0.0                    0.0   \n",
       "88887          Personal                   0.0                    0.0   \n",
       "88888          Personal                   0.0                    1.0   \n",
       "\n",
       "      Total.Minor.Injuries  Total.Uninjured  Weather.Condition  \\\n",
       "88869                  0.0              1.0                NaN   \n",
       "88870                  0.0              2.0                NaN   \n",
       "88871                  0.0              0.0                NaN   \n",
       "88872                  2.0              0.0                NaN   \n",
       "88873                  0.0              1.0                VMC   \n",
       "88874                  0.0              0.0                NaN   \n",
       "88875                  1.0              0.0                NaN   \n",
       "88876                  0.0              1.0                NaN   \n",
       "88877                  0.0              0.0                VMC   \n",
       "88878                  0.0              0.0                NaN   \n",
       "88879                  0.0              0.0                NaN   \n",
       "88880                  0.0              3.0                NaN   \n",
       "88881                  0.0              0.0                NaN   \n",
       "88882                  0.0              1.0                NaN   \n",
       "88883                  0.0              0.0                NaN   \n",
       "88884                  0.0              0.0                NaN   \n",
       "88885                  0.0              0.0                NaN   \n",
       "88886                  0.0              1.0                VMC   \n",
       "88887                  0.0              0.0                NaN   \n",
       "88888                  0.0              1.0                NaN   \n",
       "\n",
       "       Broad.phase.of.flight  Report.Status Publication.Date  \\\n",
       "88869                    NaN            NaN       14-12-2022   \n",
       "88870                    NaN            NaN       20-12-2022   \n",
       "88871                    NaN            NaN       20-12-2022   \n",
       "88872                    NaN            NaN       20-12-2022   \n",
       "88873                    NaN            NaN       27-12-2022   \n",
       "88874                    NaN            NaN              NaN   \n",
       "88875                    NaN            NaN       22-12-2022   \n",
       "88876                    NaN            NaN       19-12-2022   \n",
       "88877                    NaN            NaN       23-12-2022   \n",
       "88878                    NaN            NaN       27-12-2022   \n",
       "88879                    NaN            NaN              NaN   \n",
       "88880                    NaN            NaN       20-12-2022   \n",
       "88881                    NaN            NaN       22-12-2022   \n",
       "88882                    NaN            NaN       27-12-2022   \n",
       "88883                    NaN            NaN       28-12-2022   \n",
       "88884                    NaN            NaN       29-12-2022   \n",
       "88885                    NaN            NaN              NaN   \n",
       "88886                    NaN            NaN       27-12-2022   \n",
       "88887                    NaN            NaN              NaN   \n",
       "88888                    NaN            NaN       30-12-2022   \n",
       "\n",
       "      Cause_As_Per_Report  \n",
       "88869               pilot  \n",
       "88870               pilot  \n",
       "88871               pilot  \n",
       "88872               pilot  \n",
       "88873               pilot  \n",
       "88874               pilot  \n",
       "88875               pilot  \n",
       "88876               pilot  \n",
       "88877               pilot  \n",
       "88878               pilot  \n",
       "88879               pilot  \n",
       "88880               pilot  \n",
       "88881               pilot  \n",
       "88882               pilot  \n",
       "88883               pilot  \n",
       "88884               pilot  \n",
       "88885               pilot  \n",
       "88886               pilot  \n",
       "88887               pilot  \n",
       "88888               pilot  \n",
       "\n",
       "[20 rows x 23 columns]"
      ]
     },
     "execution_count": 477,
     "metadata": {},
     "output_type": "execute_result"
    }
   ],
   "source": [
    "aviation_df.tail(20)"
   ]
  },
  {
   "cell_type": "code",
   "execution_count": 478,
   "id": "5646f7f1-2c6c-48a7-8400-7dd42b5502ff",
   "metadata": {
    "tags": []
   },
   "outputs": [
    {
     "data": {
      "text/plain": [
       "Cause_As_Per_Report\n",
       "Unknown    61975\n",
       "pilot      19921\n",
       "Other       3780\n",
       "engine      2518\n",
       "Weather      322\n",
       "Animals      266\n",
       "Fuel         107\n",
       "Name: count, dtype: int64"
      ]
     },
     "execution_count": 478,
     "metadata": {},
     "output_type": "execute_result"
    }
   ],
   "source": [
    "aviation_df['Cause_As_Per_Report'].value_counts()"
   ]
  },
  {
   "cell_type": "markdown",
   "id": "7442e71f-7ae3-46ed-9b87-c0188e9a725e",
   "metadata": {},
   "source": [
    "## Get rid of the Null Values by dropping Null Values Associated With specific columns \n",
    "Drop columns 'Aircraft.Category' and 'Publication.Date' since they are irrelevant to our analysis"
   ]
  },
  {
   "cell_type": "markdown",
   "id": "f773a541-e532-4f15-bd38-b1c1c8ea0c57",
   "metadata": {},
   "source": [
    "### Check number of missing values per column"
   ]
  },
  {
   "cell_type": "code",
   "execution_count": 481,
   "id": "7f77b717-2819-4097-b16e-595a8e9c5d2d",
   "metadata": {
    "tags": []
   },
   "outputs": [
    {
     "data": {
      "text/plain": [
       "Event.Id                      0\n",
       "Investigation.Type            0\n",
       "Accident.Number               0\n",
       "Event.Date                    0\n",
       "Location                     52\n",
       "Country                     226\n",
       "Injury.Severity            1000\n",
       "Aircraft.damage            3194\n",
       "Aircraft.Category         56602\n",
       "Make                         63\n",
       "Model                        92\n",
       "Number.of.Engines          6084\n",
       "Engine.Type                7096\n",
       "Purpose.of.flight          6192\n",
       "Total.Fatal.Injuries      11401\n",
       "Total.Serious.Injuries    12510\n",
       "Total.Minor.Injuries      11933\n",
       "Total.Uninjured            5912\n",
       "Weather.Condition          4492\n",
       "Broad.phase.of.flight     27165\n",
       "Report.Status              6384\n",
       "Publication.Date          13771\n",
       "Cause_As_Per_Report           0\n",
       "dtype: int64"
      ]
     },
     "execution_count": 481,
     "metadata": {},
     "output_type": "execute_result"
    }
   ],
   "source": [
    "aviation_df.isnull().sum()"
   ]
  },
  {
   "cell_type": "code",
   "execution_count": 482,
   "id": "eb2072db-9f87-42b0-b6a5-b28940f781b1",
   "metadata": {
    "tags": []
   },
   "outputs": [],
   "source": [
    "aviation_df=aviation_df.drop(columns=['Aircraft.Category','Publication.Date'])"
   ]
  },
  {
   "cell_type": "code",
   "execution_count": 483,
   "id": "df527d55-810b-461f-981f-8ab2d1ef4b73",
   "metadata": {
    "tags": []
   },
   "outputs": [],
   "source": [
    "aviation_df=aviation_df.dropna(subset=['Total.Uninjured','Total.Minor.Injuries','Total.Serious.Injuries','Total.Fatal.Injuries','Engine.Type'\n",
    "                          ,'Number.of.Engines','Aircraft.damage','Injury.Severity', 'Purpose.of.flight', 'Country', 'Report.Status'\n",
    "                          ])"
   ]
  },
  {
   "cell_type": "code",
   "execution_count": 484,
   "id": "8887a06d-4413-4dc0-8b36-21b095b6bd2c",
   "metadata": {
    "tags": []
   },
   "outputs": [
    {
     "data": {
      "text/plain": [
       "Event.Id                      0\n",
       "Investigation.Type            0\n",
       "Accident.Number               0\n",
       "Event.Date                    0\n",
       "Location                     15\n",
       "Country                       0\n",
       "Injury.Severity               0\n",
       "Aircraft.damage               0\n",
       "Make                          8\n",
       "Model                        23\n",
       "Number.of.Engines             0\n",
       "Engine.Type                   0\n",
       "Purpose.of.flight             0\n",
       "Total.Fatal.Injuries          0\n",
       "Total.Serious.Injuries        0\n",
       "Total.Minor.Injuries          0\n",
       "Total.Uninjured               0\n",
       "Weather.Condition            39\n",
       "Broad.phase.of.flight     16614\n",
       "Report.Status                 0\n",
       "Cause_As_Per_Report           0\n",
       "dtype: int64"
      ]
     },
     "execution_count": 484,
     "metadata": {},
     "output_type": "execute_result"
    }
   ],
   "source": [
    "aviation_df.isnull().sum()"
   ]
  },
  {
   "cell_type": "code",
   "execution_count": 485,
   "id": "90eb72e6-8fe0-439f-b961-d757d11face0",
   "metadata": {
    "tags": []
   },
   "outputs": [
    {
     "data": {
      "text/plain": [
       "(63156, 21)"
      ]
     },
     "execution_count": 485,
     "metadata": {},
     "output_type": "execute_result"
    }
   ],
   "source": [
    "aviation_df.shape"
   ]
  },
  {
   "cell_type": "code",
   "execution_count": 486,
   "id": "ee1d72cb-1421-461e-9f2b-77dee952f49f",
   "metadata": {
    "tags": []
   },
   "outputs": [
    {
     "data": {
      "text/plain": [
       "Broad.phase.of.flight\n",
       "Landing        11372\n",
       "Takeoff         9682\n",
       "Cruise          7867\n",
       "Maneuvering     6334\n",
       "Approach        4892\n",
       "Climb           1516\n",
       "Taxi            1422\n",
       "Descent         1335\n",
       "Go-around       1051\n",
       "Standing         526\n",
       "Unknown          456\n",
       "Other             89\n",
       "Name: count, dtype: int64"
      ]
     },
     "execution_count": 486,
     "metadata": {},
     "output_type": "execute_result"
    }
   ],
   "source": [
    "aviation_df['Broad.phase.of.flight'].value_counts()"
   ]
  },
  {
   "cell_type": "markdown",
   "id": "28adbac9-84be-4cf1-9b06-83ada113fe4e",
   "metadata": {},
   "source": [
    "## Majority of the missing values in Broad Phase Of Flight are from the later years and dropping the column will mean we miss valuable data so i will fill the null values with random choice values form the same column.\n"
   ]
  },
  {
   "cell_type": "code",
   "execution_count": 488,
   "id": "e6c277ff-94da-413c-b7d0-dc59aa1b827d",
   "metadata": {},
   "outputs": [],
   "source": [
    "#I'll use random module to select the values at random and a lambda function to implement those choices\n",
    "import random\n",
    "common_values=['Landing', 'Takeoff', 'Cruise', 'Maneuvering', 'Approach', 'Climb', 'Taxi', 'Descent', 'Go-around', \n",
    "               'Standing', 'Unknown', 'Other']\n",
    "aviation_df['Broad.phase.of.flight'] = aviation_df['Broad.phase.of.flight'].apply(lambda x: random.choice(common_values) if pd.isna(x) else x)"
   ]
  },
  {
   "cell_type": "code",
   "execution_count": 489,
   "id": "898d7135-f81d-40c8-96be-45d715291472",
   "metadata": {
    "tags": []
   },
   "outputs": [],
   "source": [
    "aviation_df=aviation_df.dropna(subset=['Model','Location','Weather.Condition','Make'])"
   ]
  },
  {
   "cell_type": "code",
   "execution_count": 490,
   "id": "1ae85ef6-9ffb-4eb5-abe6-8b3495deb505",
   "metadata": {
    "tags": []
   },
   "outputs": [
    {
     "data": {
      "text/plain": [
       "Event.Id                  0\n",
       "Investigation.Type        0\n",
       "Accident.Number           0\n",
       "Event.Date                0\n",
       "Location                  0\n",
       "Country                   0\n",
       "Injury.Severity           0\n",
       "Aircraft.damage           0\n",
       "Make                      0\n",
       "Model                     0\n",
       "Number.of.Engines         0\n",
       "Engine.Type               0\n",
       "Purpose.of.flight         0\n",
       "Total.Fatal.Injuries      0\n",
       "Total.Serious.Injuries    0\n",
       "Total.Minor.Injuries      0\n",
       "Total.Uninjured           0\n",
       "Weather.Condition         0\n",
       "Broad.phase.of.flight     0\n",
       "Report.Status             0\n",
       "Cause_As_Per_Report       0\n",
       "dtype: int64"
      ]
     },
     "execution_count": 490,
     "metadata": {},
     "output_type": "execute_result"
    }
   ],
   "source": [
    "aviation_df.isnull().sum()"
   ]
  },
  {
   "cell_type": "code",
   "execution_count": 491,
   "id": "6a53e374-67f6-4ad0-8472-469636863c9d",
   "metadata": {
    "tags": []
   },
   "outputs": [
    {
     "data": {
      "text/plain": [
       "(63072, 21)"
      ]
     },
     "execution_count": 491,
     "metadata": {},
     "output_type": "execute_result"
    }
   ],
   "source": [
    "aviation_df.shape"
   ]
  },
  {
   "cell_type": "markdown",
   "id": "ead9d912-0309-427a-a672-5db83236e153",
   "metadata": {},
   "source": [
    "## Combine The Values with Cessna, Piper and Beech"
   ]
  },
  {
   "cell_type": "code",
   "execution_count": 493,
   "id": "ef8be2cc-ce70-4395-a548-9036b3828910",
   "metadata": {
    "tags": []
   },
   "outputs": [],
   "source": [
    "#Use lambda function to combine them\n",
    "\n",
    "aviation_df['Make']= aviation_df['Make'].apply(lambda x: 'Cessna' if 'Cessna' in x else x)\n",
    "aviation_df['Make']= aviation_df['Make'].apply(lambda x: 'Piper' if 'Piper' in x else x)\n",
    "aviation_df['Make']= aviation_df['Make'].apply(lambda x: 'Beech' if 'Beech' in x else x)"
   ]
  },
  {
   "cell_type": "code",
   "execution_count": 494,
   "id": "e7ed430e-f575-409a-87ac-54ae328dcad3",
   "metadata": {
    "tags": []
   },
   "outputs": [
    {
     "data": {
      "text/plain": [
       "Make\n",
       "Cessna            21212\n",
       "Piper             11705\n",
       "Beech              4023\n",
       "Bell               1776\n",
       "Mooney             1023\n",
       "Grumman            1013\n",
       "Bellanca            877\n",
       "Hughes              697\n",
       "Boeing              682\n",
       "Robinson            587\n",
       "Aeronca             521\n",
       "Air Tractor         457\n",
       "Maule               444\n",
       "Champion            436\n",
       "Schweizer           393\n",
       "Stinson             360\n",
       "Luscombe            329\n",
       "Aero Commander      329\n",
       "Hiller              313\n",
       "Taylorcraft         312\n",
       "Name: count, dtype: int64"
      ]
     },
     "execution_count": 494,
     "metadata": {},
     "output_type": "execute_result"
    }
   ],
   "source": [
    "aviation_df['Make'].value_counts().head(20)"
   ]
  },
  {
   "cell_type": "markdown",
   "id": "4c2fbe27-cfdd-4ca3-bf76-1860211fcaf4",
   "metadata": {
    "tags": []
   },
   "source": [
    "## Check for duplicates in The Event Id column"
   ]
  },
  {
   "cell_type": "code",
   "execution_count": 496,
   "id": "283d4d2e-7a5f-4a60-a4bd-a4c7989f389f",
   "metadata": {
    "tags": []
   },
   "outputs": [
    {
     "data": {
      "text/plain": [
       "0        False\n",
       "1        False\n",
       "3        False\n",
       "6        False\n",
       "7        False\n",
       "         ...  \n",
       "88639    False\n",
       "88647    False\n",
       "88661    False\n",
       "88735    False\n",
       "88767    False\n",
       "Name: Event.Id, Length: 63072, dtype: bool"
      ]
     },
     "execution_count": 496,
     "metadata": {},
     "output_type": "execute_result"
    }
   ],
   "source": [
    "#Use .duplicates method\n",
    "duplicates = aviation_df['Event.Id'].duplicated()\n",
    "duplicates #None found"
   ]
  },
  {
   "cell_type": "code",
   "execution_count": 497,
   "id": "8c8f97f5-a992-4a6e-9668-a65b7c7f048c",
   "metadata": {
    "tags": []
   },
   "outputs": [
    {
     "data": {
      "text/html": [
       "<div>\n",
       "<style scoped>\n",
       "    .dataframe tbody tr th:only-of-type {\n",
       "        vertical-align: middle;\n",
       "    }\n",
       "\n",
       "    .dataframe tbody tr th {\n",
       "        vertical-align: top;\n",
       "    }\n",
       "\n",
       "    .dataframe thead th {\n",
       "        text-align: right;\n",
       "    }\n",
       "</style>\n",
       "<table border=\"1\" class=\"dataframe\">\n",
       "  <thead>\n",
       "    <tr style=\"text-align: right;\">\n",
       "      <th></th>\n",
       "      <th>Number.of.Engines</th>\n",
       "      <th>Total.Fatal.Injuries</th>\n",
       "      <th>Total.Serious.Injuries</th>\n",
       "      <th>Total.Minor.Injuries</th>\n",
       "      <th>Total.Uninjured</th>\n",
       "    </tr>\n",
       "  </thead>\n",
       "  <tbody>\n",
       "    <tr>\n",
       "      <th>count</th>\n",
       "      <td>63072.000000</td>\n",
       "      <td>63072.000000</td>\n",
       "      <td>63072.000000</td>\n",
       "      <td>63072.000000</td>\n",
       "      <td>63072.000000</td>\n",
       "    </tr>\n",
       "    <tr>\n",
       "      <th>mean</th>\n",
       "      <td>1.118547</td>\n",
       "      <td>0.386178</td>\n",
       "      <td>0.209570</td>\n",
       "      <td>0.282915</td>\n",
       "      <td>2.297057</td>\n",
       "    </tr>\n",
       "    <tr>\n",
       "      <th>std</th>\n",
       "      <td>0.388075</td>\n",
       "      <td>2.774711</td>\n",
       "      <td>0.779202</td>\n",
       "      <td>1.279852</td>\n",
       "      <td>14.698642</td>\n",
       "    </tr>\n",
       "    <tr>\n",
       "      <th>min</th>\n",
       "      <td>0.000000</td>\n",
       "      <td>0.000000</td>\n",
       "      <td>0.000000</td>\n",
       "      <td>0.000000</td>\n",
       "      <td>0.000000</td>\n",
       "    </tr>\n",
       "    <tr>\n",
       "      <th>25%</th>\n",
       "      <td>1.000000</td>\n",
       "      <td>0.000000</td>\n",
       "      <td>0.000000</td>\n",
       "      <td>0.000000</td>\n",
       "      <td>0.000000</td>\n",
       "    </tr>\n",
       "    <tr>\n",
       "      <th>50%</th>\n",
       "      <td>1.000000</td>\n",
       "      <td>0.000000</td>\n",
       "      <td>0.000000</td>\n",
       "      <td>0.000000</td>\n",
       "      <td>1.000000</td>\n",
       "    </tr>\n",
       "    <tr>\n",
       "      <th>75%</th>\n",
       "      <td>1.000000</td>\n",
       "      <td>0.000000</td>\n",
       "      <td>0.000000</td>\n",
       "      <td>0.000000</td>\n",
       "      <td>2.000000</td>\n",
       "    </tr>\n",
       "    <tr>\n",
       "      <th>max</th>\n",
       "      <td>8.000000</td>\n",
       "      <td>270.000000</td>\n",
       "      <td>81.000000</td>\n",
       "      <td>125.000000</td>\n",
       "      <td>507.000000</td>\n",
       "    </tr>\n",
       "  </tbody>\n",
       "</table>\n",
       "</div>"
      ],
      "text/plain": [
       "       Number.of.Engines  Total.Fatal.Injuries  Total.Serious.Injuries  \\\n",
       "count       63072.000000          63072.000000            63072.000000   \n",
       "mean            1.118547              0.386178                0.209570   \n",
       "std             0.388075              2.774711                0.779202   \n",
       "min             0.000000              0.000000                0.000000   \n",
       "25%             1.000000              0.000000                0.000000   \n",
       "50%             1.000000              0.000000                0.000000   \n",
       "75%             1.000000              0.000000                0.000000   \n",
       "max             8.000000            270.000000               81.000000   \n",
       "\n",
       "       Total.Minor.Injuries  Total.Uninjured  \n",
       "count          63072.000000     63072.000000  \n",
       "mean               0.282915         2.297057  \n",
       "std                1.279852        14.698642  \n",
       "min                0.000000         0.000000  \n",
       "25%                0.000000         0.000000  \n",
       "50%                0.000000         1.000000  \n",
       "75%                0.000000         2.000000  \n",
       "max              125.000000       507.000000  "
      ]
     },
     "execution_count": 497,
     "metadata": {},
     "output_type": "execute_result"
    }
   ],
   "source": [
    "aviation_df.describe()"
   ]
  },
  {
   "cell_type": "markdown",
   "id": "b20dafae-fe21-436f-91a6-b18e27cd8610",
   "metadata": {},
   "source": [
    "# Visualisation\n",
    "\n",
    "I'll use four variables to find the best possible plane maker;\n",
    "- 'Total.Fatal.Injuries'\n",
    "- 'Total.Uninjured'\n",
    "- 'Aircraft.damage'\n",
    "- 'Make'\n",
    "I'll use the mean for the numerical variables as the 'Make' Category is too spread to get a clear picture of which plane is best since it's clustered around the aforementioned big three"
   ]
  },
  {
   "cell_type": "code",
   "execution_count": 499,
   "id": "3f44f8be-7643-4346-b211-c05adef0c11f",
   "metadata": {},
   "outputs": [],
   "source": [
    "## Bar Charts for the Fatal Injuries and Total Uninjured by Aircraft Maker"
   ]
  },
  {
   "cell_type": "code",
   "execution_count": 500,
   "id": "b6a58a49-b058-47c1-836c-09eff86b7121",
   "metadata": {
    "tags": []
   },
   "outputs": [
    {
     "data": {
      "image/png": "[encoded data removed]",
      "text/plain": [
       "<Figure size 640x480 with 1 Axes>"
      ]
     },
     "metadata": {},
     "output_type": "display_data"
    }
   ],
   "source": [
    "# Aggregate the mean number of fatalities by make\n",
    "mean_fatalities_by_make = aviation_df.groupby('Make')['Total.Fatal.Injuries'].mean()\n",
    "\n",
    "# Get the top 20 makes by mean fatalities as the makes are too many to plot visibly on the notebook\n",
    "top_10_mean_makes = mean_fatalities_by_make.nlargest(20)\n",
    "\n",
    "# Create a DataFrame for the top 20 makes\n",
    "top_10_mean_df = top_10_mean_makes.reset_index()\n",
    "\n",
    "# Plot the bar plot\n",
    "top_10_mean_df.plot(kind='barh', x='Make', y='Total.Fatal.Injuries', stacked=True, legend=False)\n",
    "plt.title('Stacked Bar Plot of Mean Fatalities by Make')\n",
    "plt.xlabel('Make')\n",
    "plt.ylabel('Mean Fatal Injuries')\n",
    "plt.xticks(rotation=45)  # Rotate x-axis labels for better readability\n",
    "plt.show()"
   ]
  },
  {
   "cell_type": "code",
   "execution_count": 501,
   "id": "e53c6dff-fa76-40f5-a657-7735a991e496",
   "metadata": {
    "tags": []
   },
   "outputs": [
    {
     "data": {
      "image/png": "[encoded data removed]",
      "text/plain": [
       "<Figure size 640x480 with 1 Axes>"
      ]
     },
     "metadata": {},
     "output_type": "display_data"
    }
   ],
   "source": [
    "# Aggregate the mean number of fatalities by make\n",
    "mean_fatalities_by_make = aviation_df.groupby('Make')['Total.Uninjured'].mean()\n",
    "top_10_mean_makes = mean_fatalities_by_make.nlargest(20)\n",
    "\n",
    "# Create a DataFrame for the top 20 makes\n",
    "top_10_mean_df = top_10_mean_makes.reset_index()\n",
    "\n",
    "# Plot the bar plot\n",
    "top_10_mean_df.plot(kind='barh', x='Make', y='Total.Uninjured', stacked=True, legend=False)\n",
    "plt.title('Stacked Bar Plot of Mean Uninjured by Make')\n",
    "plt.xlabel('Make')\n",
    "plt.ylabel('Mean Uninjured ')\n",
    "plt.xticks(rotation=45)  # Rotate x-axis labels for better readability\n",
    "plt.show()"
   ]
  },
  {
   "cell_type": "code",
   "execution_count": 502,
   "id": "bd70e22d-8181-4212-8206-28b7a0bd0bcf",
   "metadata": {},
   "outputs": [],
   "source": [
    "## Stacked Bar Chart For the Airplane Damage Per Airplane Maker"
   ]
  },
  {
   "cell_type": "code",
   "execution_count": 503,
   "id": "62c5f289-fd8f-4505-bc3c-a501cb43b030",
   "metadata": {
    "tags": []
   },
   "outputs": [
    {
     "data": {
      "image/png": "[encoded data removed]",
      "text/plain": [
       "<Figure size 640x480 with 1 Axes>"
      ]
     },
     "metadata": {},
     "output_type": "display_data"
    }
   ],
   "source": [
    "grouped = aviation_df.groupby(['Make', 'Aircraft.damage']).size().reset_index(name='Count')\n",
    "\n",
    "# create a pivot the table avi_df to have 'Aircraft.damage' as columns\n",
    "avi_df = grouped.pivot_table(index='Make', columns='Aircraft.damage', values='Count', fill_value=0)\n",
    "\n",
    "# Calculate total damage counts per maker\n",
    "avi_df['Total'] = avi_df.sum(axis=1)\n",
    "\n",
    "# Sort makers by total damage counts and select top 20\n",
    "top_20_makers = avi_df.sort_values(by='Total', ascending=False).head(20)\n",
    "\n",
    "# Plot stacked bar chart for top 20 makers\n",
    "top_20_makers.drop('Total', axis=1).plot(kind='bar', stacked=True)\n",
    "\n",
    "plt.title('Stacked Bar Chart of Airplane Damage by Airplane Maker')\n",
    "plt.xlabel('Make')\n",
    "plt.ylabel('Count')\n",
    "plt.legend(title='Airplane Damage')\n",
    "\n",
    "plt.show()"
   ]
  },
  {
   "cell_type": "markdown",
   "id": "01726a54-8d78-4aba-a9ca-9653b9eed2b5",
   "metadata": {
    "tags": []
   },
   "source": [
    "# Finally: Save the cleaned file in a new csv"
   ]
  },
  {
   "cell_type": "code",
   "execution_count": 505,
   "id": "cca390a9-9aab-4647-844d-99ac5fc09941",
   "metadata": {
    "tags": []
   },
   "outputs": [],
   "source": [
    "cleaned_file_path = 'AviationData_Cleaned.csv'\n",
    "aviation_df.to_csv(cleaned_file_path, index=False)"
   ]
  },
  {
   "cell_type": "code",
   "execution_count": null,
   "id": "5483d4c5-c1a9-4456-bdd2-0ca85c38fac7",
   "metadata": {},
   "outputs": [],
   "source": []
  }
 ],
 "metadata": {
  "kernelspec": {
   "display_name": "Python (learn-env)",
   "language": "python",
   "name": "learn-env"
  },
  "language_info": {
   "codemirror_mode": {
    "name": "ipython",
    "version": 3
   },
   "file_extension": ".py",
   "mimetype": "text/x-python",
   "name": "python",
   "nbconvert_exporter": "python",
   "pygments_lexer": "ipython3",
   "version": "3.11.7"
  }
 },
 "nbformat": 4,
 "nbformat_minor": 5
}
